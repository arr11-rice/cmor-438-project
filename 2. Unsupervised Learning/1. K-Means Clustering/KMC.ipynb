{
 "cells": [
  {
   "cell_type": "markdown",
   "metadata": {},
   "source": [
    "# K-Means Clustering (KMC) Implementation"
   ]
  },
  {
   "cell_type": "markdown",
   "metadata": {},
   "source": [
    "#### In this notebook, I perform **unsupervised clustering** using the **K-means algorithm** on the top 40 most popular songs in the `songs.csv` dataset. The dataset, which comes from Spotify, contains various audio features extracted from songs, such as `danceability`, `energy`, and `key`. I focus on these three numerical features to group songs based on their musical characteristics — without using any genre or artist labels.\n",
    "\n",
    "#### The goal is to use **K-means clustering** to group songs into similar-sounding clusters. I will try different values of **K (number of clusters)** to see which gives the best results, as well as evaluate this based on their inertia."
   ]
  },
  {
   "cell_type": "code",
   "execution_count": 1,
   "metadata": {},
   "outputs": [],
   "source": [
    "import pandas as pd\n",
    "from sklearn.preprocessing import StandardScaler\n",
    "from sklearn.decomposition import PCA\n",
    "from sklearn.metrics import silhouette_score\n",
    "import matplotlib.pyplot as plt\n",
    "import numpy as np"
   ]
  },
  {
   "cell_type": "markdown",
   "metadata": {},
   "source": [
    "## Import & Filter the Data"
   ]
  },
  {
   "cell_type": "code",
   "execution_count": 2,
   "metadata": {},
   "outputs": [],
   "source": [
    "# Load CSV\n",
    "df = pd.read_csv(\"songs.csv\")\n",
    "\n",
    "# Sort by track_popularity and select top 40\n",
    "df_top = df.sort_values(by=\"track_popularity\", ascending=False).head(40)\n",
    "\n",
    "# Select relevant features\n",
    "features = df_top[[\"danceability\", \"energy\", \"key\"]]\n",
    "\n",
    "# because k-means clustering is sensity to scale, I scale a bit more (though the data set already seems scaled enough)\n",
    "scaler = StandardScaler()\n",
    "X_scaled = scaler.fit_transform(features)"
   ]
  },
  {
   "cell_type": "markdown",
   "metadata": {},
   "source": [
    "## KMC Algorithm"
   ]
  },
  {
   "cell_type": "markdown",
   "metadata": {},
   "source": [
    "### First, i define all the functions necessary for making clusters, assigning points to them, updating these clusters, and compute the inertia."
   ]
  },
  {
   "cell_type": "code",
   "execution_count": 3,
   "metadata": {},
   "outputs": [],
   "source": [
    "def initialize_centroids(X, K):\n",
    "    \"\"\"Randomly initialize K centroids from the data points.\"\"\"\n",
    "    indices = np.random.choice(len(X), size=K, replace=False)\n",
    "    return X[indices]\n",
    "\n",
    "def assign_clusters(X, centroids):\n",
    "    \"\"\"Assign each point to the nearest centroid.\"\"\"\n",
    "    distances = np.linalg.norm(X[:, np.newaxis] - centroids, axis=2)\n",
    "    return np.argmin(distances, axis=1)\n",
    "\n",
    "def update_centroids(X, labels, K):\n",
    "    \"\"\"Update centroids as the mean of assigned points.\"\"\"\n",
    "    new_centroids = []\n",
    "    for k in range(K):\n",
    "        cluster_points = X[labels == k]\n",
    "        if len(cluster_points) > 0:\n",
    "            new_centroids.append(cluster_points.mean(axis=0))\n",
    "        else:\n",
    "            # In case a cluster gets no points, reinitialize its centroid\n",
    "            new_centroids.append(X[np.random.choice(len(X))])\n",
    "    return np.array(new_centroids)\n",
    "\n",
    "def compute_inertia(X, centroids, labels):\n",
    "    \"\"\"Calculate total within-cluster sum of squares (inertia).\"\"\"\n",
    "    inertia = 0\n",
    "    for i, x in enumerate(X):\n",
    "        center = centroids[labels[i]]\n",
    "        inertia += np.sum((x - center) ** 2)\n",
    "    return inertia"
   ]
  },
  {
   "cell_type": "markdown",
   "metadata": {},
   "source": [
    "### KMeans Clustering implementation function"
   ]
  },
  {
   "cell_type": "code",
   "execution_count": 4,
   "metadata": {},
   "outputs": [],
   "source": [
    "def kmeans(X, K, max_iters=100, tol=1e-4, verbose=False):\n",
    "    \"\"\"Full K-means clustering from scratch.\"\"\"\n",
    "    centroids = initialize_centroids(X, K)\n",
    "    for i in range(max_iters):\n",
    "        labels = assign_clusters(X, centroids)\n",
    "        new_centroids = update_centroids(X, labels, K)\n",
    "\n",
    "        # Check for convergence\n",
    "        shift = np.linalg.norm(centroids - new_centroids)\n",
    "        if verbose:\n",
    "            print(f\"Iteration {i}: centroid shift = {shift:.4f}\")\n",
    "        if shift < tol:\n",
    "            break\n",
    "        centroids = new_centroids\n",
    "\n",
    "    inertia = compute_inertia(X, centroids, labels)\n",
    "    return centroids, labels, inertia"
   ]
  },
  {
   "cell_type": "markdown",
   "metadata": {},
   "source": [
    "## Result"
   ]
  },
  {
   "cell_type": "markdown",
   "metadata": {},
   "source": [
    "Before running the kmeans clustering for various K to evaluate its performance, I run it here for K=5, meaning 5 clusters out of the 40 songs"
   ]
  },
  {
   "cell_type": "code",
   "execution_count": 5,
   "metadata": {},
   "outputs": [
    {
     "name": "stdout",
     "output_type": "stream",
     "text": [
      "Iteration 0: centroid shift = 1.7769\n",
      "Iteration 1: centroid shift = 1.1413\n",
      "Iteration 2: centroid shift = 0.4372\n",
      "Iteration 3: centroid shift = 0.4057\n",
      "Iteration 4: centroid shift = 0.5179\n",
      "Iteration 5: centroid shift = 0.2505\n",
      "Iteration 6: centroid shift = 0.0000\n"
     ]
    }
   ],
   "source": [
    "centroids, labels, inertia = kmeans(X_scaled, K=5, max_iters=100, verbose=True)\n",
    "\n",
    "# Add labels to your dataframe\n",
    "df_top[\"Cluster\"] = labels"
   ]
  },
  {
   "cell_type": "markdown",
   "metadata": {},
   "source": [
    "Above, you can see how the clustering process stops because centroid shift went to zero at iteration 6 (out of the possible maximum 100 iterations). In each iteration, clusters change as points are reassigned to the closest centroids, and then centroids are updated based on the new groups. This back-and-forth continues until the centroids stabilize and no longer move significantly, which happpened here at iter 6.\n",
    "\n",
    "\n",
    "\n",
    "To evaluate whether these 5 clusters really seem to be their own type of song, I print out all 5 song clusters below."
   ]
  },
  {
   "cell_type": "code",
   "execution_count": 6,
   "metadata": {},
   "outputs": [
    {
     "name": "stdout",
     "output_type": "stream",
     "text": [
      "\n",
      "--- Songs in Cluster 0 ---\n"
     ]
    },
    {
     "data": {
      "text/html": [
       "<div>\n",
       "<style scoped>\n",
       "    .dataframe tbody tr th:only-of-type {\n",
       "        vertical-align: middle;\n",
       "    }\n",
       "\n",
       "    .dataframe tbody tr th {\n",
       "        vertical-align: top;\n",
       "    }\n",
       "\n",
       "    .dataframe thead th {\n",
       "        text-align: right;\n",
       "    }\n",
       "</style>\n",
       "<table border=\"1\" class=\"dataframe\">\n",
       "  <thead>\n",
       "    <tr style=\"text-align: right;\">\n",
       "      <th></th>\n",
       "      <th>track_name</th>\n",
       "      <th>track_artist</th>\n",
       "      <th>Cluster</th>\n",
       "    </tr>\n",
       "  </thead>\n",
       "  <tbody>\n",
       "    <tr>\n",
       "      <th>77</th>\n",
       "      <td>tusa</td>\n",
       "      <td>Karolg</td>\n",
       "      <td>0</td>\n",
       "    </tr>\n",
       "    <tr>\n",
       "      <th>428</th>\n",
       "      <td>life is good (feat. drake)</td>\n",
       "      <td>Future</td>\n",
       "      <td>0</td>\n",
       "    </tr>\n",
       "    <tr>\n",
       "      <th>174</th>\n",
       "      <td>fantasias</td>\n",
       "      <td>Rauwalejandro</td>\n",
       "      <td>0</td>\n",
       "    </tr>\n",
       "    <tr>\n",
       "      <th>413</th>\n",
       "      <td>ayy macarena</td>\n",
       "      <td>Tyga</td>\n",
       "      <td>0</td>\n",
       "    </tr>\n",
       "    <tr>\n",
       "      <th>717</th>\n",
       "      <td>hola - remix</td>\n",
       "      <td>Dalex</td>\n",
       "      <td>0</td>\n",
       "    </tr>\n",
       "  </tbody>\n",
       "</table>\n",
       "</div>"
      ],
      "text/plain": [
       "                     track_name   track_artist  Cluster\n",
       "77                         tusa         Karolg        0\n",
       "428  life is good (feat. drake)         Future        0\n",
       "174                   fantasias  Rauwalejandro        0\n",
       "413                ayy macarena           Tyga        0\n",
       "717                hola - remix          Dalex        0"
      ]
     },
     "metadata": {},
     "output_type": "display_data"
    },
    {
     "name": "stdout",
     "output_type": "stream",
     "text": [
      "\n",
      "--- Songs in Cluster 1 ---\n"
     ]
    },
    {
     "data": {
      "text/html": [
       "<div>\n",
       "<style scoped>\n",
       "    .dataframe tbody tr th:only-of-type {\n",
       "        vertical-align: middle;\n",
       "    }\n",
       "\n",
       "    .dataframe tbody tr th {\n",
       "        vertical-align: top;\n",
       "    }\n",
       "\n",
       "    .dataframe thead th {\n",
       "        text-align: right;\n",
       "    }\n",
       "</style>\n",
       "<table border=\"1\" class=\"dataframe\">\n",
       "  <thead>\n",
       "    <tr style=\"text-align: right;\">\n",
       "      <th></th>\n",
       "      <th>track_name</th>\n",
       "      <th>track_artist</th>\n",
       "      <th>Cluster</th>\n",
       "    </tr>\n",
       "  </thead>\n",
       "  <tbody>\n",
       "    <tr>\n",
       "      <th>429</th>\n",
       "      <td>the box</td>\n",
       "      <td>Roddyricch</td>\n",
       "      <td>1</td>\n",
       "    </tr>\n",
       "    <tr>\n",
       "      <th>154</th>\n",
       "      <td>don't start now</td>\n",
       "      <td>Dualipa</td>\n",
       "      <td>1</td>\n",
       "    </tr>\n",
       "    <tr>\n",
       "      <th>21</th>\n",
       "      <td>ritmo (bad boys for life)</td>\n",
       "      <td>Theblackeyedpeas</td>\n",
       "      <td>1</td>\n",
       "    </tr>\n",
       "    <tr>\n",
       "      <th>74</th>\n",
       "      <td>ride it</td>\n",
       "      <td>Regard</td>\n",
       "      <td>1</td>\n",
       "    </tr>\n",
       "    <tr>\n",
       "      <th>88</th>\n",
       "      <td>china</td>\n",
       "      <td>Anuelaa</td>\n",
       "      <td>1</td>\n",
       "    </tr>\n",
       "    <tr>\n",
       "      <th>432</th>\n",
       "      <td>bop</td>\n",
       "      <td>Dababy</td>\n",
       "      <td>1</td>\n",
       "    </tr>\n",
       "    <tr>\n",
       "      <th>163</th>\n",
       "      <td>south of the border (feat. camila cabello &amp; ca...</td>\n",
       "      <td>Edsheeran</td>\n",
       "      <td>1</td>\n",
       "    </tr>\n",
       "    <tr>\n",
       "      <th>99</th>\n",
       "      <td>la canción</td>\n",
       "      <td>Jbalvin</td>\n",
       "      <td>1</td>\n",
       "    </tr>\n",
       "    <tr>\n",
       "      <th>119</th>\n",
       "      <td>adore you</td>\n",
       "      <td>Harrystyles</td>\n",
       "      <td>1</td>\n",
       "    </tr>\n",
       "    <tr>\n",
       "      <th>178</th>\n",
       "      <td>old town road - remix</td>\n",
       "      <td>Lilnasx</td>\n",
       "      <td>1</td>\n",
       "    </tr>\n",
       "  </tbody>\n",
       "</table>\n",
       "</div>"
      ],
      "text/plain": [
       "                                            track_name      track_artist  \\\n",
       "429                                            the box        Roddyricch   \n",
       "154                                    don't start now           Dualipa   \n",
       "21                           ritmo (bad boys for life)  Theblackeyedpeas   \n",
       "74                                             ride it            Regard   \n",
       "88                                               china           Anuelaa   \n",
       "432                                                bop            Dababy   \n",
       "163  south of the border (feat. camila cabello & ca...         Edsheeran   \n",
       "99                                          la canción           Jbalvin   \n",
       "119                                          adore you       Harrystyles   \n",
       "178                              old town road - remix           Lilnasx   \n",
       "\n",
       "     Cluster  \n",
       "429        1  \n",
       "154        1  \n",
       "21         1  \n",
       "74         1  \n",
       "88         1  \n",
       "432        1  \n",
       "163        1  \n",
       "99         1  \n",
       "119        1  \n",
       "178        1  "
      ]
     },
     "metadata": {},
     "output_type": "display_data"
    },
    {
     "name": "stdout",
     "output_type": "stream",
     "text": [
      "\n",
      "--- Songs in Cluster 2 ---\n"
     ]
    },
    {
     "data": {
      "text/html": [
       "<div>\n",
       "<style scoped>\n",
       "    .dataframe tbody tr th:only-of-type {\n",
       "        vertical-align: middle;\n",
       "    }\n",
       "\n",
       "    .dataframe tbody tr th {\n",
       "        vertical-align: top;\n",
       "    }\n",
       "\n",
       "    .dataframe thead th {\n",
       "        text-align: right;\n",
       "    }\n",
       "</style>\n",
       "<table border=\"1\" class=\"dataframe\">\n",
       "  <thead>\n",
       "    <tr style=\"text-align: right;\">\n",
       "      <th></th>\n",
       "      <th>track_name</th>\n",
       "      <th>track_artist</th>\n",
       "      <th>Cluster</th>\n",
       "    </tr>\n",
       "  </thead>\n",
       "  <tbody>\n",
       "    <tr>\n",
       "      <th>96</th>\n",
       "      <td>blinding lights</td>\n",
       "      <td>Theweeknd</td>\n",
       "      <td>2</td>\n",
       "    </tr>\n",
       "    <tr>\n",
       "      <th>102</th>\n",
       "      <td>heartless</td>\n",
       "      <td>Theweeknd</td>\n",
       "      <td>2</td>\n",
       "    </tr>\n",
       "    <tr>\n",
       "      <th>98</th>\n",
       "      <td>bandit (with youngboy never broke again)</td>\n",
       "      <td>Juicewrld</td>\n",
       "      <td>2</td>\n",
       "    </tr>\n",
       "    <tr>\n",
       "      <th>161</th>\n",
       "      <td>how do you sleep?</td>\n",
       "      <td>Samsmith</td>\n",
       "      <td>2</td>\n",
       "    </tr>\n",
       "    <tr>\n",
       "      <th>237</th>\n",
       "      <td>watermelon sugar</td>\n",
       "      <td>Harrystyles</td>\n",
       "      <td>2</td>\n",
       "    </tr>\n",
       "    <tr>\n",
       "      <th>109</th>\n",
       "      <td>before you go</td>\n",
       "      <td>Lewiscapaldi</td>\n",
       "      <td>2</td>\n",
       "    </tr>\n",
       "    <tr>\n",
       "      <th>881</th>\n",
       "      <td>all i want for christmas is you</td>\n",
       "      <td>Mariahcarey</td>\n",
       "      <td>2</td>\n",
       "    </tr>\n",
       "  </tbody>\n",
       "</table>\n",
       "</div>"
      ],
      "text/plain": [
       "                                   track_name  track_artist  Cluster\n",
       "96                            blinding lights     Theweeknd        2\n",
       "102                                 heartless     Theweeknd        2\n",
       "98   bandit (with youngboy never broke again)     Juicewrld        2\n",
       "161                         how do you sleep?      Samsmith        2\n",
       "237                          watermelon sugar   Harrystyles        2\n",
       "109                             before you go  Lewiscapaldi        2\n",
       "881           all i want for christmas is you   Mariahcarey        2"
      ]
     },
     "metadata": {},
     "output_type": "display_data"
    },
    {
     "name": "stdout",
     "output_type": "stream",
     "text": [
      "\n",
      "--- Songs in Cluster 3 ---\n"
     ]
    },
    {
     "data": {
      "text/html": [
       "<div>\n",
       "<style scoped>\n",
       "    .dataframe tbody tr th:only-of-type {\n",
       "        vertical-align: middle;\n",
       "    }\n",
       "\n",
       "    .dataframe tbody tr th {\n",
       "        vertical-align: top;\n",
       "    }\n",
       "\n",
       "    .dataframe thead th {\n",
       "        text-align: right;\n",
       "    }\n",
       "</style>\n",
       "<table border=\"1\" class=\"dataframe\">\n",
       "  <thead>\n",
       "    <tr style=\"text-align: right;\">\n",
       "      <th></th>\n",
       "      <th>track_name</th>\n",
       "      <th>track_artist</th>\n",
       "      <th>Cluster</th>\n",
       "    </tr>\n",
       "  </thead>\n",
       "  <tbody>\n",
       "    <tr>\n",
       "      <th>95</th>\n",
       "      <td>memories</td>\n",
       "      <td>Maroon5</td>\n",
       "      <td>3</td>\n",
       "    </tr>\n",
       "    <tr>\n",
       "      <th>388</th>\n",
       "      <td>falling</td>\n",
       "      <td>Trevordaniel</td>\n",
       "      <td>3</td>\n",
       "    </tr>\n",
       "    <tr>\n",
       "      <th>82</th>\n",
       "      <td>yummy</td>\n",
       "      <td>Justinbieber</td>\n",
       "      <td>3</td>\n",
       "    </tr>\n",
       "    <tr>\n",
       "      <th>52</th>\n",
       "      <td>bad guy</td>\n",
       "      <td>Billieeilish</td>\n",
       "      <td>3</td>\n",
       "    </tr>\n",
       "    <tr>\n",
       "      <th>155</th>\n",
       "      <td>highest in the room</td>\n",
       "      <td>Travisscott</td>\n",
       "      <td>3</td>\n",
       "    </tr>\n",
       "    <tr>\n",
       "      <th>211</th>\n",
       "      <td>my oh my (feat. dababy)</td>\n",
       "      <td>Camilacabello</td>\n",
       "      <td>3</td>\n",
       "    </tr>\n",
       "    <tr>\n",
       "      <th>156</th>\n",
       "      <td>hot girl bummer</td>\n",
       "      <td>Blackbear</td>\n",
       "      <td>3</td>\n",
       "    </tr>\n",
       "    <tr>\n",
       "      <th>93</th>\n",
       "      <td>señorita</td>\n",
       "      <td>Shawnmendes</td>\n",
       "      <td>3</td>\n",
       "    </tr>\n",
       "    <tr>\n",
       "      <th>445</th>\n",
       "      <td>no idea</td>\n",
       "      <td>Dontoliver</td>\n",
       "      <td>3</td>\n",
       "    </tr>\n",
       "    <tr>\n",
       "      <th>32</th>\n",
       "      <td>lose control</td>\n",
       "      <td>Meduza</td>\n",
       "      <td>3</td>\n",
       "    </tr>\n",
       "    <tr>\n",
       "      <th>430</th>\n",
       "      <td>futsal shuffle 2020</td>\n",
       "      <td>Liluzivert</td>\n",
       "      <td>3</td>\n",
       "    </tr>\n",
       "    <tr>\n",
       "      <th>158</th>\n",
       "      <td>10,000 hours (with justin bieber)</td>\n",
       "      <td>Dan+shay</td>\n",
       "      <td>3</td>\n",
       "    </tr>\n",
       "    <tr>\n",
       "      <th>433</th>\n",
       "      <td>suicidal</td>\n",
       "      <td>Ynwmelly</td>\n",
       "      <td>3</td>\n",
       "    </tr>\n",
       "  </tbody>\n",
       "</table>\n",
       "</div>"
      ],
      "text/plain": [
       "                            track_name   track_artist  Cluster\n",
       "95                            memories        Maroon5        3\n",
       "388                            falling   Trevordaniel        3\n",
       "82                               yummy   Justinbieber        3\n",
       "52                             bad guy   Billieeilish        3\n",
       "155                highest in the room    Travisscott        3\n",
       "211            my oh my (feat. dababy)  Camilacabello        3\n",
       "156                    hot girl bummer      Blackbear        3\n",
       "93                            señorita    Shawnmendes        3\n",
       "445                            no idea     Dontoliver        3\n",
       "32                        lose control         Meduza        3\n",
       "430                futsal shuffle 2020     Liluzivert        3\n",
       "158  10,000 hours (with justin bieber)       Dan+shay        3\n",
       "433                           suicidal       Ynwmelly        3"
      ]
     },
     "metadata": {},
     "output_type": "display_data"
    },
    {
     "name": "stdout",
     "output_type": "stream",
     "text": [
      "\n",
      "--- Songs in Cluster 4 ---\n"
     ]
    },
    {
     "data": {
      "text/html": [
       "<div>\n",
       "<style scoped>\n",
       "    .dataframe tbody tr th:only-of-type {\n",
       "        vertical-align: middle;\n",
       "    }\n",
       "\n",
       "    .dataframe tbody tr th {\n",
       "        vertical-align: top;\n",
       "    }\n",
       "\n",
       "    .dataframe thead th {\n",
       "        text-align: right;\n",
       "    }\n",
       "</style>\n",
       "<table border=\"1\" class=\"dataframe\">\n",
       "  <thead>\n",
       "    <tr style=\"text-align: right;\">\n",
       "      <th></th>\n",
       "      <th>track_name</th>\n",
       "      <th>track_artist</th>\n",
       "      <th>Cluster</th>\n",
       "    </tr>\n",
       "  </thead>\n",
       "  <tbody>\n",
       "    <tr>\n",
       "      <th>79</th>\n",
       "      <td>everything i wanted</td>\n",
       "      <td>Billieeilish</td>\n",
       "      <td>4</td>\n",
       "    </tr>\n",
       "    <tr>\n",
       "      <th>97</th>\n",
       "      <td>someone you loved</td>\n",
       "      <td>Lewiscapaldi</td>\n",
       "      <td>4</td>\n",
       "    </tr>\n",
       "    <tr>\n",
       "      <th>107</th>\n",
       "      <td>lose you to love me</td>\n",
       "      <td>Selenagomez</td>\n",
       "      <td>4</td>\n",
       "    </tr>\n",
       "    <tr>\n",
       "      <th>164</th>\n",
       "      <td>lalala</td>\n",
       "      <td>Y2k</td>\n",
       "      <td>4</td>\n",
       "    </tr>\n",
       "    <tr>\n",
       "      <th>259</th>\n",
       "      <td>7 rings</td>\n",
       "      <td>Arianagrande</td>\n",
       "      <td>4</td>\n",
       "    </tr>\n",
       "  </tbody>\n",
       "</table>\n",
       "</div>"
      ],
      "text/plain": [
       "              track_name  track_artist  Cluster\n",
       "79   everything i wanted  Billieeilish        4\n",
       "97     someone you loved  Lewiscapaldi        4\n",
       "107  lose you to love me   Selenagomez        4\n",
       "164               lalala           Y2k        4\n",
       "259              7 rings  Arianagrande        4"
      ]
     },
     "metadata": {},
     "output_type": "display_data"
    }
   ],
   "source": [
    "# Show songs in all the clusters\n",
    "for cluster_num in sorted(df_top[\"Cluster\"].unique()):\n",
    "    print(f\"\\n--- Songs in Cluster {cluster_num} ---\")\n",
    "    display(df_top[df_top[\"Cluster\"] == cluster_num][[\"track_name\", \"track_artist\", \"Cluster\"]])"
   ]
  },
  {
   "cell_type": "code",
   "execution_count": 7,
   "metadata": {},
   "outputs": [
    {
     "data": {
      "text/html": [
       "<div>\n",
       "<style scoped>\n",
       "    .dataframe tbody tr th:only-of-type {\n",
       "        vertical-align: middle;\n",
       "    }\n",
       "\n",
       "    .dataframe tbody tr th {\n",
       "        vertical-align: top;\n",
       "    }\n",
       "\n",
       "    .dataframe thead th {\n",
       "        text-align: right;\n",
       "    }\n",
       "</style>\n",
       "<table border=\"1\" class=\"dataframe\">\n",
       "  <thead>\n",
       "    <tr style=\"text-align: right;\">\n",
       "      <th></th>\n",
       "      <th>track_name</th>\n",
       "      <th>track_artist</th>\n",
       "    </tr>\n",
       "    <tr>\n",
       "      <th>Cluster</th>\n",
       "      <th></th>\n",
       "      <th></th>\n",
       "    </tr>\n",
       "  </thead>\n",
       "  <tbody>\n",
       "    <tr>\n",
       "      <th>0</th>\n",
       "      <td>[tusa, life is good (feat. drake), fantasias, ...</td>\n",
       "      <td>[Karolg, Future, Rauwalejandro, Tyga, Dalex]</td>\n",
       "    </tr>\n",
       "    <tr>\n",
       "      <th>1</th>\n",
       "      <td>[the box, don't start now, ritmo (bad boys for...</td>\n",
       "      <td>[Roddyricch, Dualipa, Theblackeyedpeas, Regard...</td>\n",
       "    </tr>\n",
       "    <tr>\n",
       "      <th>2</th>\n",
       "      <td>[blinding lights, heartless, bandit (with youn...</td>\n",
       "      <td>[Theweeknd, Theweeknd, Juicewrld, Samsmith, Ha...</td>\n",
       "    </tr>\n",
       "    <tr>\n",
       "      <th>3</th>\n",
       "      <td>[memories, falling, yummy, bad guy, highest in...</td>\n",
       "      <td>[Maroon5, Trevordaniel, Justinbieber, Billieei...</td>\n",
       "    </tr>\n",
       "    <tr>\n",
       "      <th>4</th>\n",
       "      <td>[everything i wanted, someone you loved, lose ...</td>\n",
       "      <td>[Billieeilish, Lewiscapaldi, Selenagomez, Y2k,...</td>\n",
       "    </tr>\n",
       "  </tbody>\n",
       "</table>\n",
       "</div>"
      ],
      "text/plain": [
       "                                                track_name  \\\n",
       "Cluster                                                      \n",
       "0        [tusa, life is good (feat. drake), fantasias, ...   \n",
       "1        [the box, don't start now, ritmo (bad boys for...   \n",
       "2        [blinding lights, heartless, bandit (with youn...   \n",
       "3        [memories, falling, yummy, bad guy, highest in...   \n",
       "4        [everything i wanted, someone you loved, lose ...   \n",
       "\n",
       "                                              track_artist  \n",
       "Cluster                                                     \n",
       "0             [Karolg, Future, Rauwalejandro, Tyga, Dalex]  \n",
       "1        [Roddyricch, Dualipa, Theblackeyedpeas, Regard...  \n",
       "2        [Theweeknd, Theweeknd, Juicewrld, Samsmith, Ha...  \n",
       "3        [Maroon5, Trevordaniel, Justinbieber, Billieei...  \n",
       "4        [Billieeilish, Lewiscapaldi, Selenagomez, Y2k,...  "
      ]
     },
     "metadata": {},
     "output_type": "display_data"
    }
   ],
   "source": [
    "grouped = df_top.groupby(\"Cluster\")[[\"track_name\", \"track_artist\"]].agg(list)\n",
    "display(grouped)"
   ]
  },
  {
   "cell_type": "markdown",
   "metadata": {},
   "source": [
    "### Interpretation\n",
    "\n",
    "These clusters do indeed seem to have their own unique identities. \n",
    "\n",
    "Cluster 0 has 3 songs by latin artists, all of which employ elements of hip hop and rap, making the remaining two songs in the cluster (by American rap artists) a more natural fit. In fact, one of these two songs by American rap artists is a collaboration with a latin rapper, and it includes lyrics in Spanish.\n",
    "\n",
    "Cluster 1 has a larger number of songs, 10. Most of the cluster is dominated by rap songs that employ pop elements, and there a a few (only 3 as far as I can tell) songs that are purely pop songs.\n",
    "\n",
    "Cluster 2 appears very cohesive, with two songs by The Weekend and the rest being slightly softer pop songs, except for one rap.\n",
    "\n",
    "Cluster 3 is the largest cluster. Out of 13 songs, 7 are pop, 5 are more rap, and 1 is more of an electronic dance song.\n",
    "\n",
    "Lastly, Cluster 4, along with Cluster 1, is small but cohesive. All 5 songs in this cluster are pop-heavy, with 2 "
   ]
  },
  {
   "cell_type": "markdown",
   "metadata": {},
   "source": [
    "## Analysis & Discussion"
   ]
  },
  {
   "cell_type": "markdown",
   "metadata": {},
   "source": [
    "To analyze this implementation of KMC, I evaluate cluster quality using two methods:\n",
    "- elbow method (using the measure of inertia we compute in kmeans function).\n",
    "- silhouette score\n",
    "\n",
    "Lastly, I visualize the clusters in 2D using PCA"
   ]
  },
  {
   "cell_type": "markdown",
   "metadata": {},
   "source": [
    "#### Elbow Method\n",
    "\n",
    "The elbow method helps determine the optimal number of clusters (K) by plotting the total within-cluster sum of squares (inertia) against different K values. As K increases, inertia decreases. This method is called the elbow method because there is a point in this graph when the curve begins to flatten (i.e., the inertia slows down more slowly)--this is the \"elbow\" point. The K associated with the \"elbow\" point is a good K to pick because it strikes a balance between low inertia and model simplicity."
   ]
  },
  {
   "cell_type": "code",
   "execution_count": 8,
   "metadata": {},
   "outputs": [
    {
     "data": {
      "image/png": "[encoded data removed]",
      "text/plain": [
       "<Figure size 640x480 with 1 Axes>"
      ]
     },
     "metadata": {},
     "output_type": "display_data"
    }
   ],
   "source": [
    "inertias = []\n",
    "K_values = range(1, 11)\n",
    "\n",
    "for K in K_values:\n",
    "    _, _, inertia = kmeans(X_scaled, K, max_iters=100)\n",
    "    inertias.append(inertia)\n",
    "\n",
    "# Plot the elbow curve\n",
    "import matplotlib.pyplot as plt\n",
    "\n",
    "plt.plot(K_values, inertias, marker='o')\n",
    "plt.xlabel(\"Number of clusters (K)\")\n",
    "plt.ylabel(\"Inertia\")\n",
    "plt.title(\"Elbow Method: Inertia vs K\")\n",
    "plt.grid(True)\n",
    "plt.show()\n"
   ]
  },
  {
   "cell_type": "markdown",
   "metadata": {},
   "source": [
    "As seen in the graph above, the elbow point is somewhere around K=4 or K=5, suggesting that a different choice of K earlier on, when we looked at the similarities in each of the 5 clusters, would not have been much beneficial."
   ]
  },
  {
   "cell_type": "markdown",
   "metadata": {},
   "source": [
    "#### Silhouette Score\n",
    "The silhouette score measures how similar a point is to its own cluster compared to other clusters. Scores range from -1 to 1, with higher values indicating better-defined and more distinct clusters. This metric helps identify which K results in the most well-separated groups.\n",
    "\n"
   ]
  },
  {
   "cell_type": "code",
   "execution_count": 9,
   "metadata": {},
   "outputs": [
    {
     "data": {
      "image/png": "[encoded data removed]",
      "text/plain": [
       "<Figure size 640x480 with 1 Axes>"
      ]
     },
     "metadata": {},
     "output_type": "display_data"
    }
   ],
   "source": [
    "silhouette_scores = []\n",
    "K_range = range(2, 11)\n",
    "\n",
    "for K in K_range:\n",
    "    _, labels, _ = kmeans(X_scaled, K, max_iters=100)\n",
    "    score = silhouette_score(X_scaled, labels)\n",
    "    silhouette_scores.append(score)\n",
    "\n",
    "# Plot\n",
    "plt.plot(K_range, silhouette_scores, marker='o')\n",
    "plt.xlabel(\"Number of clusters (K)\")\n",
    "plt.ylabel(\"Silhouette Score\")\n",
    "plt.title(\"Silhouette Score vs K\")\n",
    "plt.ylim(-1, 1)  # <- set y-axis range from 0 to 1\n",
    "plt.grid(True)\n",
    "plt.show()\n"
   ]
  },
  {
   "cell_type": "markdown",
   "metadata": {},
   "source": [
    "Clearly, the silhouette scores for K ranging from 2 to 10 remained consistently low (~0.25), suggesting that the clustering structure in the selected feature space is weak or overlapping (in fact, the PCA visualization below shows some considerable overlap between clusters). This indicates that the chosen features—danceability, energy, and key—do not lead to strongly separated groups in the top 40 songs dataset, and this makes sense, as songs can have danceability and energy in vastly different ways though at the same level. While K-means still forms clusters, the model likely partitions a continuous space rather than revealing natural divisions. Perhaps a dataset of more stereotypical music from a few different genres will have natural divisions that could be predicted through other musical features. It is likely that popular songs are very similar in terms of their danceability, energy, and key, making it hard for the KMC algorithm to find any strong groupings."
   ]
  },
  {
   "cell_type": "markdown",
   "metadata": {},
   "source": [
    "#### PCA visualization\n",
    "\n",
    "Principal Component Analysis (PCA) is used to reduce the dimensionality of the feature space to 2D so that clusters can be visualized. While the algorithm itself operates in higher dimensions, plotting the clusters in 2D helps assess how well-separated they are and whether the grouping appears meaningful."
   ]
  },
  {
   "cell_type": "code",
   "execution_count": 12,
   "metadata": {},
   "outputs": [
    {
     "data": {
      "image/png": "[encoded data removed]",
      "text/plain": [
       "<Figure size 640x480 with 2 Axes>"
      ]
     },
     "metadata": {},
     "output_type": "display_data"
    }
   ],
   "source": [
    "# Fit final model\n",
    "K_final = 5\n",
    "_, labels, _ = kmeans(X_scaled, K_final)\n",
    "\n",
    "# Reduce to 2D\n",
    "pca = PCA(n_components=2)\n",
    "X_2d = pca.fit_transform(X_scaled)\n",
    "\n",
    "# Plot clusters\n",
    "plt.scatter(X_2d[:, 0], X_2d[:, 1], c=labels, cmap='tab10', s=50)\n",
    "plt.title(f\"K-means Clustering (K={K_final}) - PCA Reduced\")\n",
    "plt.xlabel(\"PCA 1\")\n",
    "plt.ylabel(\"PCA 2\")\n",
    "plt.colorbar(label=\"Cluster\")\n",
    "plt.grid(True)\n",
    "plt.show()"
   ]
  },
  {
   "cell_type": "markdown",
   "metadata": {},
   "source": [
    "#### In summary, \n",
    "Based on the elbow method, a noticeable \"elbow\" appeared at K = 5, suggesting that 5 clusters offer a good tradeoff between inertia and model simplicity. The silhouette score did not disprove this choice, but it also did not support it, as the scores were very even across the board from K=2 to K=10.\n",
    "\n",
    "The PCA visualization showed some fairly distinct groupings, with some overlap — suggesting that while the selected features (`danceability`, `energy`, `key`) provide some structure, they may not fully capture the differences between all songs. Still, many songs in the same cluster shared stylistic qualities that I was able to recognize from experience (not necessarily related to the three selected features), even though no genre information was used during clustering.\n",
    "\n",
    "Overall, the clustering reveals meaningful groupings among the top 40 songs and an somewhat clear \"elbow\" point at K=5, but there were drawbacks that could be eliminated by adding more features (like tempo, genre, or lyrics).\n"
   ]
  },
  {
   "cell_type": "code",
   "execution_count": null,
   "metadata": {},
   "outputs": [],
   "source": []
  }
 ],
 "metadata": {
  "kernelspec": {
   "display_name": "Python 3",
   "language": "python",
   "name": "python3"
  },
  "language_info": {
   "codemirror_mode": {
    "name": "ipython",
    "version": 3
   },
   "file_extension": ".py",
   "mimetype": "text/x-python",
   "name": "python",
   "nbconvert_exporter": "python",
   "pygments_lexer": "ipython3",
   "version": "3.8.18"
  }
 },
 "nbformat": 4,
 "nbformat_minor": 4
}
