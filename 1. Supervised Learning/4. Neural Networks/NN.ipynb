{
 "cells": [
  {
   "cell_type": "markdown",
   "metadata": {},
   "source": [
    "# Neural Networks (NN) Implementation\n",
    "#### In this jupyter notebook,\n",
    "## Import & Filter the Data\n",
    "## NN Algorithm\n",
    "## Result\n",
    "## Analysis & Discussion"
   ]
  }
 ],
 "metadata": {
  "language_info": {
   "name": "python"
  }
 },
 "nbformat": 4,
 "nbformat_minor": 2
}
