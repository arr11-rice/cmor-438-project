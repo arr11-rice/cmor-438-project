{
 "cells": [
  {
   "cell_type": "markdown",
   "metadata": {},
   "source": [
    "# ___ Implementation\n",
    "#### In this jupyter notebook,\n",
    "## Import & Filter the Data\n",
    "## ___ Algorithm\n",
    "## Result\n",
    "## Analysis & Discussion"
   ]
  }
 ],
 "metadata": {
  "language_info": {
   "name": "python"
  }
 },
 "nbformat": 4,
 "nbformat_minor": 2
}
