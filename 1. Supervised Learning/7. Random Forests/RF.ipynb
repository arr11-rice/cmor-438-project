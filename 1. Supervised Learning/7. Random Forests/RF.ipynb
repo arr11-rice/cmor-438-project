{
 "cells": [
  {
   "cell_type": "markdown",
   "metadata": {},
   "source": [
    "# Random Forests (RF) Implementation"
   ]
  },
  {
   "cell_type": "markdown",
   "metadata": {},
   "source": [
    "#### In this Jupyter notebook, I implement a **Random Forest Regressor** to predict housing prices.\n",
    "\n",
    "#### Random forests are an ensemble learning method that builds multiple regression trees and combines their outputs to make more accurate predictions. Each tree is trained on a bootstrapped sample (random sample with replacement) of the data, and at each split, only a random subset of features is considered, to reduce overfitting. \n",
    "\n",
    "#### The goal of this notebook is to predict the selling price of a house based on its features — such as square footage, number of bedrooms and bathrooms, lot size, and zip code — and to compare the performance of a random forest model to that of a single regression tree. I will also explore feature importance to understand which variables most strongly influence the model’s predictions."
   ]
  },
  {
   "cell_type": "code",
   "execution_count": 8,
   "metadata": {},
   "outputs": [],
   "source": [
    "import pandas as pd\n",
    "import numpy as np\n",
    "from sklearn.tree import DecisionTreeRegressor, plot_tree\n",
    "from sklearn.model_selection import train_test_split\n",
    "from sklearn.metrics import mean_squared_error, r2_score\n",
    "import matplotlib.pyplot as plt\n",
    "import seaborn as sns\n",
    "from collections import Counter\n",
    "from sklearn.utils import resample"
   ]
  },
  {
   "cell_type": "markdown",
   "metadata": {},
   "source": [
    "## Import & Filter the Data\n",
    "The same cell is in RT because these two use the same data"
   ]
  },
  {
   "cell_type": "code",
   "execution_count": 2,
   "metadata": {},
   "outputs": [],
   "source": [
    "df = pd.read_csv(\"test.csv\")  \n",
    "\n",
    "# Convert acres to square feet if needed for the 'lot_size' feature\n",
    "def convert_lot_size(row):\n",
    "    if row['lot_size_units'] == 'acre':\n",
    "        return row['lot_size'] * 43560  # 1 acre = 43,560 sq ft\n",
    "    return row['lot_size']\n",
    "\n",
    "df['lot_size_sqft'] = df.apply(convert_lot_size, axis=1)\n",
    "\n",
    "# Drop rows with missing values in essential features\n",
    "df_clean = df.dropna(subset=['beds', 'baths', 'size', 'lot_size_sqft', 'zip_code', 'price'])\n",
    "\n",
    "# Define features and target\n",
    "X = df_clean[['beds', 'baths', 'size', 'lot_size_sqft', 'zip_code']]\n",
    "y = np.log(df_clean['price'])  # log transform target for stability\n",
    "\n",
    "# Train/test split of 80/20\n",
    "X_train, X_test, y_train, y_test = train_test_split(X, y, test_size=0.2, random_state=42)"
   ]
  },
  {
   "cell_type": "markdown",
   "metadata": {},
   "source": [
    "## RF Algorithm"
   ]
  },
  {
   "cell_type": "code",
   "execution_count": 5,
   "metadata": {},
   "outputs": [],
   "source": [
    "# This is all the same as from RT.ipynb, but jupyter notebooks don't allow importing classes between each other.\n",
    "class RegressionTreeNode:\n",
    "    def __init__(self, depth=0, max_depth=None):\n",
    "        self.depth = depth\n",
    "        self.max_depth = max_depth\n",
    "        self.left = None\n",
    "        self.right = None\n",
    "        self.feature_index = None\n",
    "        self.threshold = None\n",
    "        self.value = None  # For leaf nodes\n",
    "\n",
    "    def fit(self, X, y):\n",
    "        if len(set(y)) == 1 or (self.max_depth is not None and self.depth >= self.max_depth):\n",
    "            self.value = np.mean(y)\n",
    "            return\n",
    "\n",
    "        best_mse = float('inf')\n",
    "        best_feature = None\n",
    "        best_threshold = None\n",
    "\n",
    "        for feature_index in range(X.shape[1]):\n",
    "            thresholds = np.unique(X[:, feature_index])\n",
    "            for threshold in thresholds:\n",
    "                left_mask = X[:, feature_index] <= threshold\n",
    "                right_mask = ~left_mask\n",
    "\n",
    "                y_left = y[left_mask]\n",
    "                y_right = y[right_mask]\n",
    "\n",
    "                if len(y_left) == 0 or len(y_right) == 0:\n",
    "                    continue\n",
    "\n",
    "                current_mse = (\n",
    "                    len(y_left) * np.var(y_left) + len(y_right) * np.var(y_right)\n",
    "                ) / len(y)\n",
    "\n",
    "                if current_mse < best_mse:\n",
    "                    best_mse = current_mse\n",
    "                    best_feature = feature_index\n",
    "                    best_threshold = threshold\n",
    "\n",
    "        if best_feature is None:\n",
    "            self.value = np.mean(y)\n",
    "            return\n",
    "\n",
    "        self.feature_index = best_feature\n",
    "        self.threshold = best_threshold\n",
    "\n",
    "        left_mask = X[:, best_feature] <= best_threshold\n",
    "        right_mask = ~left_mask\n",
    "\n",
    "        self.left = RegressionTreeNode(depth=self.depth + 1, max_depth=self.max_depth)\n",
    "        self.right = RegressionTreeNode(depth=self.depth + 1, max_depth=self.max_depth)\n",
    "\n",
    "        self.left.fit(X[left_mask], y[left_mask])\n",
    "        self.right.fit(X[right_mask], y[right_mask])\n",
    "\n",
    "    def predict_one(self, x):\n",
    "        if self.value is not None:\n",
    "            return self.value\n",
    "        if x[self.feature_index] <= self.threshold:\n",
    "            return self.left.predict_one(x)\n",
    "        else:\n",
    "            return self.right.predict_one(x)\n",
    "\n",
    "    def predict(self, X):\n",
    "        return np.array([self.predict_one(x) for x in X])"
   ]
  },
  {
   "cell_type": "markdown",
   "metadata": {},
   "source": [
    "### Random Forest Regressor Implementation\n",
    "\n",
    "To improve on the performance of a single regression tree, I implemented a **Random Forest Regressor**. A random forest is an ensemble method that builds multiple decision trees and combines their predictions. This implementation uses the `RegressionTreeNode` class from the previous folder's jupyter notebook, RT.ipynb, which is copy-pasted above. This `RandomForestRegressorScratch` class trains `n_estimators`, which are separate trees, and the RF algorithm predicts by averaging all those trees' predictions. "
   ]
  },
  {
   "cell_type": "code",
   "execution_count": 10,
   "metadata": {},
   "outputs": [],
   "source": [
    "class RandomForestRegressorScratch:\n",
    "    def __init__(self, n_estimators=10, max_depth=5):\n",
    "        self.n_estimators = n_estimators\n",
    "        self.max_depth = max_depth\n",
    "        self.trees = []\n",
    "\n",
    "    def fit(self, X, y):\n",
    "        self.trees = []\n",
    "        for _ in range(self.n_estimators):\n",
    "            # Bootstrap sample\n",
    "            X_sample, y_sample = resample(X, y, replace=True)\n",
    "            tree = RegressionTreeNode(max_depth=self.max_depth)\n",
    "            tree.fit(X_sample, y_sample)\n",
    "            self.trees.append(tree)\n",
    "\n",
    "    def predict(self, X):\n",
    "        # Collect predictions from each tree\n",
    "        tree_preds = np.array([tree.predict(X) for tree in self.trees])\n",
    "        # Average predictions\n",
    "        return np.mean(tree_preds, axis=0)\n"
   ]
  },
  {
   "cell_type": "markdown",
   "metadata": {},
   "source": [
    "### Train and Evaluate"
   ]
  },
  {
   "cell_type": "markdown",
   "metadata": {},
   "source": [
    "We now train `RandomForestRegressorScratch` on the housing dataset using 20 trees, each limited to a `max_depth` of 7. \n",
    "\n",
    "Each tree is trained on a **bootstrapped sample** (random sampling with replacement) of the training data. This reduces variance in the model because, whereas one tree can be quite sensitive to changes in the training data, the average of many trees, each with its own training data, is less unstable. \n",
    "\n",
    "After training, we transform the log predictions back to the original price scale and evaluate the model's performance using the mean squared error and R² score "
   ]
  },
  {
   "cell_type": "code",
   "execution_count": 14,
   "metadata": {},
   "outputs": [
    {
     "name": "stdout",
     "output_type": "stream",
     "text": [
      "Random Forest\n",
      "MSE: 70739027573.67899\n",
      "R²: 0.7868564530802201\n"
     ]
    }
   ],
   "source": [
    "# Use log(price) for y\n",
    "rf_scratch = RandomForestRegressorScratch(n_estimators=20, max_depth=7)\n",
    "rf_scratch.fit(X_train.values, y_train.values)\n",
    "\n",
    "# Predict and transform back to price scale\n",
    "y_pred_log_rf = rf_scratch.predict(X_test.values)\n",
    "y_pred_rf = np.exp(y_pred_log_rf)\n",
    "\n",
    "print(\"Random Forest\")\n",
    "print(\"MSE:\", mean_squared_error(np.exp(y_test), y_pred_rf))\n",
    "print(\"R²:\", r2_score(np.exp(y_test), y_pred_rf))"
   ]
  },
  {
   "cell_type": "markdown",
   "metadata": {},
   "source": [
    "The mean squared error (MSE) is approximately 70.7 billion, which indicates the average squared difference between predicted and actual housing prices has dropped substantially, though it is still high (for context, the square root of 70.7 billion is roughly 266,000). This is a significant improvement over the previous model (Regression Tree), where MSEs were over 180 billion.\n",
    "\n",
    "The R² score is 0.787, meaning the random forest model explains nearly 79% of the variance in housing prices. Compared to the single regression tree, which explained only around 53% at best, this ensemble method reduces variance and generalizes better on real-world data with noise and nonlinear interactions."
   ]
  },
  {
   "cell_type": "markdown",
   "metadata": {},
   "source": [
    "## Result"
   ]
  },
  {
   "cell_type": "markdown",
   "metadata": {},
   "source": [
    "### Results: Tuning the Number of Trees\n",
    "\n",
    "Seeing as how the random forests algorithm netted a much better R² score than the single regression three before finetuning its parameter(s), I want to evaluate  how the number of trees affects the model’s performance. Thus, I trained random forests with increasing numbers of estimators (trees) to find out what is the best number of trees to have in a forest."
   ]
  },
  {
   "cell_type": "code",
   "execution_count": null,
   "metadata": {},
   "outputs": [
    {
     "name": "stdout",
     "output_type": "stream",
     "text": [
      "1 trees → R²: 0.2914, MSE: 235178766233.77\n",
      "5 trees → R²: 0.6022, MSE: 132027413555.99\n",
      "10 trees → R²: 0.6363, MSE: 120721551601.15\n",
      "20 trees → R²: 0.6774, MSE: 107054824180.03\n",
      "50 trees → R²: 0.7149, MSE: 94633190178.78\n"
     ]
    }
   ],
   "source": [
    "n_trees_list = [1, 5, 10, 20, 50, 100]\n",
    "r2_scores = []\n",
    "mse_scores = []\n",
    "\n",
    "for n in n_trees_list:\n",
    "    rf = RandomForestRegressorScratch(n_estimators=n, max_depth=7)\n",
    "    rf.fit(X_train.values, y_train.values)\n",
    "    y_pred_log = rf.predict(X_test.values)\n",
    "    y_pred = np.exp(y_pred_log)\n",
    "    \n",
    "    r2 = r2_score(np.exp(y_test), y_pred)\n",
    "    mse = mean_squared_error(np.exp(y_test), y_pred)\n",
    "\n",
    "    r2_scores.append(r2)\n",
    "    mse_scores.append(mse)\n",
    "    print(f\"{n} trees → R²: {r2:.4f}, MSE: {mse:.2f}\")\n"
   ]
  },
  {
   "cell_type": "code",
   "execution_count": 16,
   "metadata": {},
   "outputs": [
    {
     "data": {
      "image/png": "[encoded data removed]",
      "text/plain": [
       "<Figure size 800x400 with 1 Axes>"
      ]
     },
     "metadata": {},
     "output_type": "display_data"
    }
   ],
   "source": [
    "plt.figure(figsize=(8, 4))\n",
    "plt.plot(n_trees_list, r2_scores, marker='o', label=\"R²\")\n",
    "plt.xlabel(\"Number of Trees\")\n",
    "plt.ylabel(\"R² Score\")\n",
    "plt.title(\"Random Forest: R² vs. Number of Trees\")\n",
    "plt.grid(True)\n",
    "plt.legend()\n",
    "plt.show()\n"
   ]
  },
  {
   "cell_type": "markdown",
   "metadata": {},
   "source": [
    "\n",
    "As expected, the R² score improves rapidly at first, then gradually levels off as more trees are added.\n",
    "\n",
    "\n",
    "This behavior illustrates a key trait of ensemble methods: **adding more models improves stability**, but beyond a certain point, the returns diminish. For this dataset, around **20–50 trees** appears to be a sweet spot, beyond which performance gains are minor.\n",
    "\n",
    "By avoiding excessively large ensembles, we reduce training time while still maintaining strong predictive power."
   ]
  },
  {
   "cell_type": "markdown",
   "metadata": {},
   "source": [
    "## Analysis & Discussion"
   ]
  },
  {
   "cell_type": "markdown",
   "metadata": {},
   "source": [
    "import matplotlib.pyplot as plt\n",
    "import seaborn as sns\n",
    "\n",
    "# Ensure predictions are already made\n",
    "# y_test_exp = np.exp(y_test)\n",
    "y_test_exp = np.exp(y_test)  # just to be explicit\n",
    "\n",
    "# For comparison: predictions from each model\n",
    "# y_pred_tree and y_pred_rf should already be defined\n",
    "\n",
    "plt.figure(figsize=(12, 5))\n",
    "\n",
    "# Regression Tree (single)\n",
    "plt.subplot(1, 2, 1)\n",
    "sns.scatterplot(x=y_test_exp, y=y_pred_tree)\n",
    "plt.plot([y_test_exp.min(), y_test_exp.max()], [y_test_exp.min(), y_test_exp.max()], 'r--')\n",
    "plt.xlabel(\"Actual Price\")\n",
    "plt.ylabel(\"Predicted Price\")\n",
    "plt.title(\"Regression Tree Predictions\")\n",
    "plt.grid(True)\n",
    "\n",
    "# Random Forest\n",
    "plt.subplot(1, 2, 2)\n",
    "sns.scatterplot(x=y_test_exp, y=y_pred_rf)\n",
    "plt.plot([y_test_exp.min(), y_test_exp.max()], [y_test_exp.min(), y_test_exp.max()], 'r--')\n",
    "plt.xlabel(\"Actual Price\")\n",
    "plt.ylabel(\"Predicted Price\")\n",
    "plt.title(\"Random Forest Predictions\")\n",
    "plt.grid(True)\n",
    "\n",
    "plt.tight_layout()\n",
    "plt.show()\n"
   ]
  }
 ],
 "metadata": {
  "kernelspec": {
   "display_name": "Python 3",
   "language": "python",
   "name": "python3"
  },
  "language_info": {
   "codemirror_mode": {
    "name": "ipython",
    "version": 3
   },
   "file_extension": ".py",
   "mimetype": "text/x-python",
   "name": "python",
   "nbconvert_exporter": "python",
   "pygments_lexer": "ipython3",
   "version": "3.8.18"
  }
 },
 "nbformat": 4,
 "nbformat_minor": 4
}
